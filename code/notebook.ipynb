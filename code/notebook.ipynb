{
 "cells": [
  {
   "cell_type": "markdown",
   "id": "c26f68dc",
   "metadata": {},
   "source": [
    "# A Watermark for Large Language Models\n",
    "\n",
    "This is the Python notebook for our project."
   ]
  },
  {
   "cell_type": "code",
   "execution_count": 12,
   "id": "8b3fa5ce",
   "metadata": {},
   "outputs": [],
   "source": [
    "# Import block - put any necessary imports here\n",
    "from datasets import load_dataset, Dataset"
   ]
  },
  {
   "cell_type": "markdown",
   "id": "3a181ca0",
   "metadata": {},
   "source": [
    "# Load the Dataset\n",
    "\n",
    "The paper uses the C4 dataset’s RealNewsLike subset"
   ]
  },
  {
   "cell_type": "code",
   "execution_count": 13,
   "id": "0490e39e",
   "metadata": {},
   "outputs": [],
   "source": [
    "dataset_name = \"c4\"\n",
    "dataset_config_name = \"realnewslike\"\n",
    "dataset = load_dataset(dataset_name, dataset_config_name, split=\"train\", streaming=True)"
   ]
  },
  {
   "cell_type": "markdown",
   "id": "b34c300f",
   "metadata": {},
   "source": [
    "# Algorithm 1: Text Generation with Hard Red List\n",
    "\n",
    "![algorithm_1.png](algorithm_1.png)"
   ]
  },
  {
   "cell_type": "code",
   "execution_count": 14,
   "id": "ec61dc6c",
   "metadata": {},
   "outputs": [],
   "source": [
    "# This is the code block for Algorithm 1\n",
    "\n",
    "def algorithm_1():\n",
    "    # TODO: Implement Algorithm 1\n",
    "    raise NotImplementedError()"
   ]
  },
  {
   "cell_type": "markdown",
   "id": "77d2986d",
   "metadata": {},
   "source": [
    "# Algorithm 2: Text Generation with Soft Red List\n",
    "\n",
    "![algorithm_2.png](algorithm_2.png)"
   ]
  },
  {
   "cell_type": "code",
   "execution_count": 15,
   "id": "327f5b28",
   "metadata": {},
   "outputs": [],
   "source": [
    "# This is the code block for Algorithm 2\n",
    "\n",
    "def algorithm_2():\n",
    "    # TODO: Implement Algorithm 2\n",
    "    raise NotImplementedError()"
   ]
  },
  {
   "cell_type": "markdown",
   "id": "19c4442e",
   "metadata": {},
   "source": [
    "# Algorithm 3: Robust Private Watermarking\n",
    "\n",
    "![algorithm_3.png](algorithm_3.png)"
   ]
  },
  {
   "cell_type": "code",
   "execution_count": 16,
   "id": "30b69487",
   "metadata": {},
   "outputs": [],
   "source": [
    "# This is the code block for Algorithm 3\n",
    "\n",
    "def algorithm_3():\n",
    "    # TODO: Implement Algorithm 3\n",
    "    raise NotImplementedError()"
   ]
  }
 ],
 "metadata": {
  "kernelspec": {
   "display_name": "base",
   "language": "python",
   "name": "python3"
  },
  "language_info": {
   "codemirror_mode": {
    "name": "ipython",
    "version": 3
   },
   "file_extension": ".py",
   "mimetype": "text/x-python",
   "name": "python",
   "nbconvert_exporter": "python",
   "pygments_lexer": "ipython3",
   "version": "3.12.7"
  }
 },
 "nbformat": 4,
 "nbformat_minor": 5
}
